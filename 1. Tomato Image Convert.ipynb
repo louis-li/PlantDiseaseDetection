{
 "cells": [
  {
   "cell_type": "code",
   "execution_count": 1,
   "metadata": {},
   "outputs": [],
   "source": [
    "import pandas as pd\n",
    "import numpy as np\n",
    "import matplotlib.pyplot as plt\n",
    "import random\n",
    "import os\n",
    "from os import path\n",
    "from os.path import isfile, join\n",
    "\n",
    "from tensorflow.keras.preprocessing.image import load_img,save_img\n",
    "from tensorflow.keras.preprocessing.image import img_to_array\n",
    "\n",
    "\n",
    "%matplotlib inline\n",
    "image_dir = 'images'\n",
    "\n",
    "import warnings\n",
    "warnings.filterwarnings('ignore')\n",
    "\n",
    "image_size = 224"
   ]
  },
  {
   "cell_type": "code",
   "execution_count": 9,
   "metadata": {},
   "outputs": [],
   "source": [
    "# import image data and combine labels\n",
    "def convert_data(image_dir, extension = '.png'):\n",
    "    #X = []\n",
    "    #y = []\n",
    "    for root, folder, files in os.walk(image_dir):\n",
    "        #print(files)\n",
    "        for f in files:\n",
    "            #print(f.split())\n",
    "            if f.endswith(extension):\n",
    "                #print(root, folder, f)\n",
    "                img = load_img(f'{root}/{f}', target_size=(image_size,image_size,3))\n",
    "                img_array = img_to_array(img, dtype='uint8')\n",
    "                save_img(f'{root}/{f.lower()}', img_array)\n"
   ]
  },
  {
   "cell_type": "code",
   "execution_count": 4,
   "metadata": {},
   "outputs": [],
   "source": [
    "convert_data(r'F:\\notebooks\\capstone\\Tomato')"
   ]
  },
  {
   "cell_type": "code",
   "execution_count": 7,
   "metadata": {},
   "outputs": [],
   "source": [
    "convert_data(r'F:\\notebooks\\capstone\\data\\unlabeled', '.jpg')"
   ]
  },
  {
   "cell_type": "code",
   "execution_count": 10,
   "metadata": {},
   "outputs": [],
   "source": [
    "convert_data(r'F:\\notebooks\\capstone\\data\\unlabeled', '.JPG')"
   ]
  },
  {
   "cell_type": "code",
   "execution_count": null,
   "metadata": {},
   "outputs": [],
   "source": []
  }
 ],
 "metadata": {
  "kernelspec": {
   "display_name": "Python 3.7 - Tensorflow",
   "language": "python",
   "name": "py37_tensorflow"
  },
  "language_info": {
   "codemirror_mode": {
    "name": "ipython",
    "version": 3
   },
   "file_extension": ".py",
   "mimetype": "text/x-python",
   "name": "python",
   "nbconvert_exporter": "python",
   "pygments_lexer": "ipython3",
   "version": "3.7.6"
  }
 },
 "nbformat": 4,
 "nbformat_minor": 4
}
