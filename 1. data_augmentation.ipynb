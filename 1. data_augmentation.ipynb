{
 "cells": [
  {
   "cell_type": "markdown",
   "id": "sustained-partition",
   "metadata": {},
   "source": [
    "## Data Augmentation\n",
    "Images are augmented using ImageDataGenerator of Keras"
   ]
  },
  {
   "cell_type": "code",
   "execution_count": 1,
   "id": "quarterly-bubble",
   "metadata": {},
   "outputs": [
    {
     "name": "stderr",
     "output_type": "stream",
     "text": [
      "Using TensorFlow backend.\n"
     ]
    }
   ],
   "source": [
    "from keras.preprocessing.image import ImageDataGenerator\n",
    "from skimage import io\n",
    "\n",
    "import numpy as np\n",
    "import os\n",
    "from PIL import Image"
   ]
  },
  {
   "cell_type": "code",
   "execution_count": 2,
   "id": "sacred-fraction",
   "metadata": {},
   "outputs": [],
   "source": [
    "datagen = ImageDataGenerator(\n",
    "        featurewise_center=False,\n",
    "        samplewise_center=False,\n",
    "        featurewise_std_normalization=False,\n",
    "        samplewise_std_normalization=False,\n",
    "        zca_whitening=False,\n",
    "#        zca_epsilon=1e-06,\n",
    "        rotation_range=40,\n",
    "        width_shift_range=0.2,\n",
    "        height_shift_range=0.2,\n",
    "#        brightness_range=None,\n",
    "        shear_range=0.2,\n",
    "        zoom_range=0.2,\n",
    "        channel_shift_range=0.0,\n",
    "        fill_mode=\"reflect\",\n",
    "        cval=0.0,\n",
    "        horizontal_flip=True,\n",
    "        vertical_flip=True,\n",
    "        rescale=None,\n",
    "        preprocessing_function=None,\n",
    "        data_format=None,\n",
    "#        validation_split=0.0,\n",
    "#        dtype=None,\n",
    "        )"
   ]
  },
  {
   "cell_type": "code",
   "execution_count": 3,
   "id": "congressional-affairs",
   "metadata": {},
   "outputs": [],
   "source": [
    "image_directory = \"/Users/sangkinam/mywork/w210/data/plant_leave_diseases/Raspberry___healthy/\"\n",
    "SIZE = 224\n",
    "dataset = []\n",
    "my_images = os.listdir(image_directory)\n",
    "\n",
    "#print(my_images[0])"
   ]
  },
  {
   "cell_type": "code",
   "execution_count": 4,
   "id": "divine-principal",
   "metadata": {},
   "outputs": [],
   "source": [
    "for i, image_name in enumerate(my_images):\n",
    "    if ((image_name.split('.')[1] == 'jpg') or (image_name.split('.')[1] == 'JPG')):\n",
    "        image = io.imread(image_directory + image_name)        \n",
    "        image = Image.fromarray(image, 'RGB')        \n",
    "        image = image.resize((SIZE,SIZE)) \n",
    "        dataset.append(np.array(image))\n",
    "        \n",
    "x = np.array(dataset)"
   ]
  },
  {
   "cell_type": "markdown",
   "id": "natural-election",
   "metadata": {},
   "source": [
    "### Generating Augmented Images"
   ]
  },
  {
   "cell_type": "code",
   "execution_count": 5,
   "id": "offshore-florida",
   "metadata": {},
   "outputs": [
    {
     "name": "stdout",
     "output_type": "stream",
     "text": [
      "1000 images are generated\n"
     ]
    }
   ],
   "source": [
    "batch_size = 20 # how many images should be created at a time\n",
    "num_of_count = 50\n",
    "num_of_images = batch_size * num_of_count\n",
    "\n",
    "count = 1\n",
    "for batch in datagen.flow(x, batch_size=10, save_to_dir='/Users/sangkinam/mywork/w210/data/augmented_data/Raspberry___healthy',\n",
    "                          save_prefix='aug', save_format='jpg'):\n",
    "    count += 1    \n",
    "    if count > num_of_count:\n",
    "        break\n",
    "        \n",
    "print(\"%d images are generated\" % num_of_images)"
   ]
  },
  {
   "cell_type": "code",
   "execution_count": null,
   "id": "ranging-gnome",
   "metadata": {},
   "outputs": [],
   "source": []
  }
 ],
 "metadata": {
  "kernelspec": {
   "display_name": "Python 3",
   "language": "python",
   "name": "python3"
  },
  "language_info": {
   "codemirror_mode": {
    "name": "ipython",
    "version": 3
   },
   "file_extension": ".py",
   "mimetype": "text/x-python",
   "name": "python",
   "nbconvert_exporter": "python",
   "pygments_lexer": "ipython3",
   "version": "3.6.12"
  }
 },
 "nbformat": 4,
 "nbformat_minor": 5
}
