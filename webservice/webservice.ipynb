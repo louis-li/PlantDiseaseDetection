{
 "cells": [
  {
   "cell_type": "markdown",
   "metadata": {},
   "source": [
    "## Setup Web Service\n",
    "\n",
    "1. In webservice folder, run python webservice.py\n",
    "2. Run following sample code"
   ]
  },
  {
   "cell_type": "code",
   "execution_count": 164,
   "metadata": {},
   "outputs": [
    {
     "name": "stdout",
     "output_type": "stream",
     "text": [
      "<Response [200]> healthy\n"
     ]
    }
   ],
   "source": [
    "import requests\n",
    "\n",
    "url = 'http://localhost:5000/predict'\n",
    "img = cv2.imread('../data/fgvc7/images/Train_2.jpg')\n",
    "_, img_encoded = cv2.imencode('.jpg', img)\n",
    "\n",
    "#headers = {'content-type': 'image/jpeg', 'Accept-Charset': 'UTF-8'}\n",
    "headers = {'content-type': 'image/jpeg'}\n",
    "r = requests.post(url, data=img_encoded.tostring(), headers=headers)\n",
    "print(r, r.text)"
   ]
  },
  {
   "cell_type": "code",
   "execution_count": 163,
   "metadata": {},
   "outputs": [
    {
     "name": "stdout",
     "output_type": "stream",
     "text": [
      "<Response [200]> scab\n"
     ]
    }
   ],
   "source": [
    "img = cv2.imread('../data/fgvc7/images/Train_6.jpg')\n",
    "_, img_encoded = cv2.imencode('.jpg', img)\n",
    "\n",
    "#headers = {'content-type': 'image/jpeg', 'Accept-Charset': 'UTF-8'}\n",
    "headers = {'content-type': 'image/jpeg'}\n",
    "r = requests.post(url, data=img_encoded.tostring(), headers=headers)\n",
    "print(r, r.text)"
   ]
  },
  {
   "cell_type": "markdown",
   "metadata": {},
   "source": [
    "## Demo Server Code"
   ]
  },
  {
   "cell_type": "code",
   "execution_count": null,
   "metadata": {},
   "outputs": [],
   "source": [
    "from flask import Flask, request, jsonify, render_template\n",
    "import tensorflow as tf\n",
    "from tensorflow.keras import backend\n",
    "from tensorflow.keras.models import load_model\n",
    "import json\n",
    "from PIL import Image\n",
    "from base64 import decodestring\n",
    "import cv2\n",
    "import numpy as np\n",
    "\n",
    "app = Flask(__name__)\n",
    "\n",
    "    \n",
    "\n",
    "@app.route(\"/\")\n",
    "def index():\n",
    "    return render_template('index.html', pred = 0)\n",
    "\n",
    "@app.route('/predict', methods=['POST'])\n",
    "def predict():\n",
    "    image_size = 299\n",
    "    nparr = np.fromstring(request.data, np.uint8)\n",
    "    print(nparr)\n",
    "    img = cv2.imdecode(nparr, cv2.IMREAD_COLOR)\n",
    "    cv2.imwrite('test.jpg',img)\n",
    "    return \"Done\"\n",
    "    \n",
    "def main():\n",
    "    \"\"\"Run the app.\"\"\"\n",
    "    app.run(host='0.0.0.0', debug=False)  # nosec\n",
    "\n",
    "\n",
    "if __name__ == '__main__':\n",
    "    main()"
   ]
  }
 ],
 "metadata": {
  "kernelspec": {
   "display_name": "py37_tensorflow",
   "language": "python",
   "name": "conda-env-py37_tensorflow-py"
  },
  "language_info": {
   "codemirror_mode": {
    "name": "ipython",
    "version": 3
   },
   "file_extension": ".py",
   "mimetype": "text/x-python",
   "name": "python",
   "nbconvert_exporter": "python",
   "pygments_lexer": "ipython3",
   "version": "3.7.7"
  }
 },
 "nbformat": 4,
 "nbformat_minor": 4
}
