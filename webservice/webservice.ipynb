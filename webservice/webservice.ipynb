{
 "cells": [
  {
   "cell_type": "markdown",
   "metadata": {},
   "source": [
    "## Setup Web Service\n",
    "\n",
    "1. In webservice folder, run python webservice.py  or  sudo nohup python webservice.py > log.txt 2>&1 &\n",
    "\n",
    "2. Run following sample code"
   ]
  },
  {
   "cell_type": "markdown",
   "metadata": {},
   "source": [
    "## Test API"
   ]
  },
  {
   "cell_type": "code",
   "execution_count": 1,
   "metadata": {},
   "outputs": [
    {
     "name": "stdout",
     "output_type": "stream",
     "text": [
      "<Response [500]> <!DOCTYPE HTML PUBLIC \"-//W3C//DTD HTML 3.2 Final//EN\">\n",
      "<title>500 Internal Server Error</title>\n",
      "<h1>Internal Server Error</h1>\n",
      "<p>The server encountered an internal error and was unable to complete your request. Either the server is overloaded or there is an error in the application.</p>\n",
      "\n"
     ]
    }
   ],
   "source": [
    "import requests\n",
    "\n",
    "url = 'http://localhost:5000/predict'\n",
    "img_file = \"../data/fgvc7/images/Train_0.jpg\"\n",
    "headers = {'content-type': 'image/jpeg'}\n",
    "img = open(img_file, 'rb').read()\n",
    "response = requests.post(url, data=img, headers=headers)\n",
    "print(response, response.text)"
   ]
  },
  {
   "cell_type": "code",
   "execution_count": 51,
   "metadata": {},
   "outputs": [
    {
     "name": "stdout",
     "output_type": "stream",
     "text": [
      "<Response [200]> Apple Cedar apple rust\n"
     ]
    }
   ],
   "source": [
    "import requests\n",
    "\n",
    "url = 'http://localhost:5000/predict'\n",
    "img_file = '../data/fgvc7/images/Train_156.jpg'\n",
    "headers = {'content-type': 'image/jpeg'}\n",
    "img = open(img_file, 'rb').read()\n",
    "response = requests.post(url, data=img, headers=headers)\n",
    "print(response, response.text)"
   ]
  },
  {
   "cell_type": "markdown",
   "metadata": {},
   "source": [
    "## Demo Server Code"
   ]
  },
  {
   "cell_type": "code",
   "execution_count": null,
   "metadata": {},
   "outputs": [],
   "source": [
    "from flask import Flask, request, jsonify, render_template\n",
    "import tensorflow as tf\n",
    "from tensorflow.keras import backend\n",
    "from tensorflow.keras.models import load_model\n",
    "import json\n",
    "from PIL import Image\n",
    "from base64 import decodestring\n",
    "import cv2\n",
    "import numpy as np\n",
    "\n",
    "app = Flask(__name__)\n",
    "\n",
    "    \n",
    "\n",
    "@app.route(\"/\")\n",
    "def index():\n",
    "    return render_template('index.html', pred = 0)\n",
    "\n",
    "@app.route('/predict', methods=['POST'])\n",
    "def predict():\n",
    "    image_size = 299\n",
    "    nparr = np.fromstring(request.data, np.uint8)\n",
    "    print(nparr)\n",
    "    img = cv2.imdecode(nparr, cv2.IMREAD_COLOR)\n",
    "    cv2.imwrite('test.jpg',img)\n",
    "    return \"Done\"\n",
    "    \n",
    "def main():\n",
    "    \"\"\"Run the app.\"\"\"\n",
    "    app.run(host='0.0.0.0', debug=False)  # nosec\n",
    "\n",
    "\n",
    "if __name__ == '__main__':\n",
    "    main()"
   ]
  },
  {
   "cell_type": "code",
   "execution_count": null,
   "metadata": {},
   "outputs": [],
   "source": []
  }
 ],
 "metadata": {
  "kernelspec": {
   "display_name": "py37_tensorflow",
   "language": "python",
   "name": "conda-env-py37_tensorflow-py"
  },
  "language_info": {
   "codemirror_mode": {
    "name": "ipython",
    "version": 3
   },
   "file_extension": ".py",
   "mimetype": "text/x-python",
   "name": "python",
   "nbconvert_exporter": "python",
   "pygments_lexer": "ipython3",
   "version": "3.7.7"
  }
 },
 "nbformat": 4,
 "nbformat_minor": 4
}
